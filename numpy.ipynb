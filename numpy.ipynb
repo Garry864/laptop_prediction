{
 "cells": [
  {
   "cell_type": "code",
   "execution_count": 1,
   "metadata": {},
   "outputs": [
    {
     "name": "stdout",
     "output_type": "stream",
     "text": [
      "Original array: [1 2 3 4 5 6]\n",
      "Shape of the original array: (6,)\n"
     ]
    }
   ],
   "source": [
    "import numpy as np\n",
    "\n",
    "arr = np.array([1, 2, 3, 4, 5, 6])\n",
    "print(\"Original array:\", arr)\n",
    "print(\"Shape of the original array:\", arr.shape)\n"
   ]
  },
  {
   "cell_type": "code",
   "execution_count": 2,
   "metadata": {},
   "outputs": [
    {
     "name": "stdout",
     "output_type": "stream",
     "text": [
      "Reshaped array (2 rows, 3 columns):\n",
      "[[1 2 3]\n",
      " [4 5 6]]\n",
      "Shape of the reshaped array: (2, 3)\n"
     ]
    }
   ],
   "source": [
    "arr_reshaped = arr.reshape(2, 3)\n",
    "print(\"Reshaped array (2 rows, 3 columns):\")\n",
    "print(arr_reshaped)\n",
    "print(\"Shape of the reshaped array:\", arr_reshaped.shape)\n"
   ]
  },
  {
   "cell_type": "code",
   "execution_count": 3,
   "metadata": {},
   "outputs": [
    {
     "name": "stdout",
     "output_type": "stream",
     "text": [
      "Reshaped array (1 row, inferred columns):\n",
      "[[1 2 3 4 5 6]]\n",
      "Shape of the reshaped array: (1, 6)\n"
     ]
    }
   ],
   "source": [
    "arr_reshaped = arr.reshape(1, -1)\n",
    "print(\"Reshaped array (1 row, inferred columns):\")\n",
    "print(arr_reshaped)\n",
    "print(\"Shape of the reshaped array:\", arr_reshaped.shape)\n"
   ]
  },
  {
   "cell_type": "code",
   "execution_count": 4,
   "metadata": {},
   "outputs": [
    {
     "name": "stdout",
     "output_type": "stream",
     "text": [
      "Reshaped array (inferred rows, 2 columns):\n",
      "[[1 2]\n",
      " [3 4]\n",
      " [5 6]]\n",
      "Shape of the reshaped array: (3, 2)\n"
     ]
    }
   ],
   "source": [
    "arr_reshaped = arr.reshape(-1, 2)\n",
    "print(\"Reshaped array (inferred rows, 2 columns):\")\n",
    "print(arr_reshaped)\n",
    "print(\"Shape of the reshaped array:\", arr_reshaped.shape)\n"
   ]
  },
  {
   "cell_type": "code",
   "execution_count": 5,
   "metadata": {},
   "outputs": [
    {
     "name": "stdout",
     "output_type": "stream",
     "text": [
      "Original 2D array:\n",
      "[[1 2 3 4]\n",
      " [5 6 7 8]]\n",
      "Shape of the original 2D array: (2, 4)\n"
     ]
    }
   ],
   "source": [
    "arr_2d = np.array([[1, 2, 3, 4], [5, 6, 7, 8]])\n",
    "print(\"Original 2D array:\")\n",
    "print(arr_2d)\n",
    "print(\"Shape of the original 2D array:\", arr_2d.shape)\n"
   ]
  },
  {
   "cell_type": "code",
   "execution_count": 10,
   "metadata": {},
   "outputs": [
    {
     "name": "stdout",
     "output_type": "stream",
     "text": [
      "Reshaped array to 3D (2x2x2):\n",
      "[[[1 2]\n",
      "  [3 4]]\n",
      "\n",
      " [[5 6]\n",
      "  [7 8]]]\n",
      "Shape of the reshaped 3D array: (2, 2, 2)\n"
     ]
    }
   ],
   "source": [
    "arr_3d = arr_2d.reshape(2, 2, 2)\n",
    "print(\"Reshaped array to 3D (2x2x2):\")\n",
    "print(arr_3d)\n",
    "print(\"Shape of the reshaped 3D array:\", arr_3d.shape)\n"
   ]
  },
  {
   "cell_type": "code",
   "execution_count": null,
   "metadata": {},
   "outputs": [],
   "source": []
  }
 ],
 "metadata": {
  "kernelspec": {
   "display_name": "Penv",
   "language": "python",
   "name": "python3"
  },
  "language_info": {
   "codemirror_mode": {
    "name": "ipython",
    "version": 3
   },
   "file_extension": ".py",
   "mimetype": "text/x-python",
   "name": "python",
   "nbconvert_exporter": "python",
   "pygments_lexer": "ipython3",
   "version": "3.10.14"
  }
 },
 "nbformat": 4,
 "nbformat_minor": 2
}
